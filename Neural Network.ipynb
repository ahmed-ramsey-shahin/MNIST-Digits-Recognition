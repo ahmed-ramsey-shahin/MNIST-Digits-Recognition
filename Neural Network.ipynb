{
 "cells": [
  {
   "cell_type": "markdown",
   "metadata": {
    "collapsed": true,
    "pycharm": {
     "name": "#%% md\n"
    }
   },
   "source": [
    "# Digits Recognition"
   ]
  },
  {
   "cell_type": "code",
   "execution_count": null,
   "outputs": [],
   "source": [
    "from matplotlib import pyplot as plt\n",
    "import pandas as pd\n",
    "import numpy as np\n",
    "import pickle"
   ],
   "metadata": {
    "collapsed": false,
    "pycharm": {
     "name": "#%%\n"
    }
   }
  },
  {
   "cell_type": "markdown",
   "source": [
    "## Reading the dataset"
   ],
   "metadata": {
    "collapsed": false,
    "pycharm": {
     "name": "#%% md\n"
    }
   }
  },
  {
   "cell_type": "code",
   "execution_count": null,
   "outputs": [],
   "source": [
    "# Reading the dataset files\n",
    "train = pd.read_csv('train.csv')\n",
    "test = pd.read_csv('test.csv')\n",
    "kaggle_test = pd.read_csv('kaggle_test.csv')\n",
    "# Converting the dataset to numpy arrays\n",
    "X_train = train.to_numpy()[:, 1:].T / 255\n",
    "X_test = test.to_numpy()[:, 1:].T / 255\n",
    "X_test_kaggle = kaggle_test.to_numpy().T / 255\n",
    "# Splitting the dataset into data and labels\n",
    "y_train = train.to_numpy()[:, 0].T\n",
    "y_test = test.to_numpy()[:, 0].T\n",
    "# Defining some constants\n",
    "m = X_train.shape[1]"
   ],
   "metadata": {
    "collapsed": false,
    "pycharm": {
     "name": "#%%\n"
    }
   }
  },
  {
   "cell_type": "markdown",
   "source": [
    "## Plotting random data"
   ],
   "metadata": {
    "collapsed": false,
    "pycharm": {
     "name": "#%% md\n"
    }
   }
  },
  {
   "cell_type": "code",
   "execution_count": null,
   "outputs": [],
   "source": [
    "fig, axes = plt.subplots(2, 5, figsize=(12, 5))\n",
    "axes = axes.flatten()\n",
    "idx = np.random.randint(0, X_train.shape[1], size=10)\n",
    "for i in range(10):\n",
    "    axes[i].imshow(X_train[:, idx[i]].reshape(28, 28), cmap='gray')\n",
    "    axes[i].axis('off')\n",
    "    axes[i].set_title(str(int(y_train[idx[i]])), color='black', fontsize=25)\n",
    "plt.show()"
   ],
   "metadata": {
    "collapsed": false,
    "pycharm": {
     "name": "#%%\n"
    }
   }
  },
  {
   "cell_type": "markdown",
   "source": [
    "## Defining one hot function"
   ],
   "metadata": {
    "collapsed": false,
    "pycharm": {
     "name": "#%% md\n"
    }
   }
  },
  {
   "cell_type": "code",
   "execution_count": null,
   "outputs": [],
   "source": [
    "def one_hot(y):\n",
    "    y_new = np.zeros((y.shape[0], y.max() + 1))\n",
    "    y_new[np.arange(y.shape[0]), y] = 1\n",
    "    return y_new"
   ],
   "metadata": {
    "collapsed": false,
    "pycharm": {
     "name": "#%%\n"
    }
   }
  },
  {
   "cell_type": "markdown",
   "source": [
    "## Initializing the weights and biases"
   ],
   "metadata": {
    "collapsed": false,
    "pycharm": {
     "name": "#%% md\n"
    }
   }
  },
  {
   "cell_type": "code",
   "execution_count": null,
   "outputs": [],
   "source": [
    "def init_params():\n",
    "    w1 = np.random.rand(256, 784) - 0.5\n",
    "    b1 = np.random.rand(256, 1) - 0.5\n",
    "\n",
    "    w2 = np.random.rand(128, 256) - 0.5\n",
    "    b2 = np.random.rand(128, 1) - 0.5\n",
    "\n",
    "    w3 = np.random.rand(10, 128) - 0.5\n",
    "    b3 = np.random.rand(10, 1) - 0.5\n",
    "    return w1, b1, w2, b2, w3, b3"
   ],
   "metadata": {
    "collapsed": false,
    "pycharm": {
     "name": "#%%\n"
    }
   }
  },
  {
   "cell_type": "markdown",
   "source": [
    "## Defining the ReLU, and the softmax functions and the derivative of the ReLU"
   ],
   "metadata": {
    "collapsed": false,
    "pycharm": {
     "name": "#%% md\n"
    }
   }
  },
  {
   "cell_type": "code",
   "execution_count": null,
   "outputs": [],
   "source": [
    "def ReLU(z):\n",
    "    return np.maximum(z, 0)\n",
    "\n",
    "def dReLU(z):\n",
    "    return z > 0\n",
    "\n",
    "def softmax(z):\n",
    "        return np.exp(z) / sum(np.exp(z))"
   ],
   "metadata": {
    "collapsed": false,
    "pycharm": {
     "name": "#%%\n"
    }
   }
  },
  {
   "cell_type": "markdown",
   "source": [
    "## Defining the forward propagation function"
   ],
   "metadata": {
    "collapsed": false,
    "pycharm": {
     "name": "#%% md\n"
    }
   }
  },
  {
   "cell_type": "code",
   "execution_count": null,
   "outputs": [],
   "source": [
    "def forward_prop(w1, b1, w2, b2, w3, b3, X):\n",
    "    z1 = w1.dot(X) + b1\n",
    "    a1 = ReLU(z1)\n",
    "\n",
    "    z2 = w2.dot(a1) + b2\n",
    "    a2 = ReLU(z2)\n",
    "\n",
    "    z3 = w3.dot(a2) + b3\n",
    "    a3 = softmax(z3)\n",
    "\n",
    "    return z1, a1, z2, a2, z3, a3"
   ],
   "metadata": {
    "collapsed": false,
    "pycharm": {
     "name": "#%%\n"
    }
   }
  },
  {
   "cell_type": "markdown",
   "source": [
    "## Defining the backward propagation function"
   ],
   "metadata": {
    "collapsed": false,
    "pycharm": {
     "name": "#%% md\n"
    }
   }
  },
  {
   "cell_type": "code",
   "execution_count": null,
   "outputs": [],
   "source": [
    "def backward_prop(z1, a1, z2, a2, a3, w2, w3, X, y):\n",
    "    y = one_hot(y).T\n",
    "\n",
    "    dz3 = a3 - y\n",
    "    dw3 = (1 / m) * dz3.dot(a2.T)\n",
    "\n",
    "    dz2 = w3.T.dot(dz3) * dReLU(z2)\n",
    "    dw2 = (1 / m) * dz2.dot(a1.T)\n",
    "\n",
    "    dz1 = w2.T.dot(dz2) * dReLU(z1)\n",
    "    dw1 = (1 / m) * dz1.dot(X.T)\n",
    "\n",
    "    return (1 / m) * np.sum(dz1), dw1, (1 / m) * np.sum(dz2), dw2, (1 / m) * np.sum(dz3), dw3"
   ],
   "metadata": {
    "collapsed": false,
    "pycharm": {
     "name": "#%%\n"
    }
   }
  },
  {
   "cell_type": "markdown",
   "source": [
    "## Defining a function to update the weights and biases"
   ],
   "metadata": {
    "collapsed": false,
    "pycharm": {
     "name": "#%% md\n"
    }
   }
  },
  {
   "cell_type": "code",
   "execution_count": null,
   "outputs": [],
   "source": [
    "def update_w_b(w1, b1, w2, b2, w3, b3, dw1, db1, dw2, db2, dw3, db3, alpha):\n",
    "    w1 = w1 - alpha * dw1\n",
    "    b1 = b1 - alpha * db1\n",
    "\n",
    "    w2 = w2 - alpha * dw2\n",
    "    b2 = b2 - alpha * db2\n",
    "\n",
    "    w3 = w3 - alpha * dw3\n",
    "    b3 = b3 - alpha * db3\n",
    "\n",
    "    return w1, b1, w2, b2, w3, b3"
   ],
   "metadata": {
    "collapsed": false,
    "pycharm": {
     "name": "#%%\n"
    }
   }
  },
  {
   "cell_type": "markdown",
   "source": [
    "## Defining the get predictions and calculate accuracy function"
   ],
   "metadata": {
    "collapsed": false,
    "pycharm": {
     "name": "#%% md\n"
    }
   }
  },
  {
   "cell_type": "code",
   "execution_count": null,
   "outputs": [],
   "source": [
    "def get_predictions(a3):\n",
    "        return np.argmax(a3, axis=0)\n",
    "\n",
    "def calc_accuracy(predictions, y):\n",
    "    return (np.sum(predictions == y) / y.shape[0]) * 100"
   ],
   "metadata": {
    "collapsed": false,
    "pycharm": {
     "name": "#%%\n"
    }
   }
  },
  {
   "cell_type": "markdown",
   "source": [
    "## Defining the Gradient Descent function"
   ],
   "metadata": {
    "collapsed": false,
    "pycharm": {
     "name": "#%% md\n"
    }
   }
  },
  {
   "cell_type": "code",
   "execution_count": null,
   "outputs": [],
   "source": [
    "def gradient_descent(X, y, iterations, alpha):\n",
    "    w1, b1, w2, b2, w3, b3 = init_params()\n",
    "    for i in range(1, iterations):\n",
    "        z1, a1, z2, a2, z3, a3 = forward_prop(w1, b1, w2, b2, w3, b3, X)\n",
    "        db1, dw1, db2, dw2, db3, dw3 = backward_prop(z1, a1, z2, a2, a3, w2, w3, X, y)\n",
    "        w1, b1, w2, b2, w3, b3 = update_w_b(w1, b1, w2, b2, w3, b3, dw1, db1, dw2, db2, dw3, db3, alpha)\n",
    "        if (i + 1) % 10 == 0:\n",
    "            predictions = get_predictions(a3)\n",
    "            accuracy = calc_accuracy(predictions, y)\n",
    "            print('Iteration {}, accuracy on the training set {}'.format(i + 1, accuracy))\n",
    "    return w1, b1, w2, b2, w3, b3"
   ],
   "metadata": {
    "collapsed": false,
    "pycharm": {
     "name": "#%%\n"
    }
   }
  },
  {
   "cell_type": "markdown",
   "source": [
    "## Training the network"
   ],
   "metadata": {
    "collapsed": false,
    "pycharm": {
     "name": "#%% md\n"
    }
   }
  },
  {
   "cell_type": "code",
   "execution_count": null,
   "outputs": [],
   "source": [
    "w1, b1, w2, b2, w3, b3 = gradient_descent(X_train, y_train, 500, 0.1)"
   ],
   "metadata": {
    "collapsed": false,
    "pycharm": {
     "name": "#%%\n"
    }
   }
  },
  {
   "cell_type": "markdown",
   "source": [
    "## Calculating the accuracy on the test set"
   ],
   "metadata": {
    "collapsed": false,
    "pycharm": {
     "name": "#%% md\n"
    }
   }
  },
  {
   "cell_type": "code",
   "execution_count": null,
   "outputs": [],
   "source": [
    "print('Accuracy on the test set is: {}'.format(calc_accuracy(get_predictions(forward_prop(w1, b1, w2, b2, w3, b3, X_test)[-1]), y_test)))"
   ],
   "metadata": {
    "collapsed": false,
    "pycharm": {
     "name": "#%%\n"
    }
   }
  },
  {
   "cell_type": "markdown",
   "source": [
    "## Saving the weights, and biases to a file"
   ],
   "metadata": {
    "collapsed": false,
    "pycharm": {
     "name": "#%% md\n"
    }
   }
  },
  {
   "cell_type": "code",
   "execution_count": null,
   "outputs": [],
   "source": [
    "file = open('model.obj', 'wb')\n",
    "weights = {\n",
    "    'w1': w1,\n",
    "    'b1': b1,\n",
    "    'w2': w2,\n",
    "    'b2': b2,\n",
    "    'w3': w3,\n",
    "    'b3': b3\n",
    "}\n",
    "pickle.dump(weights, file)\n",
    "file.close()"
   ],
   "metadata": {
    "collapsed": false,
    "pycharm": {
     "name": "#%%\n"
    }
   }
  }
 ],
 "metadata": {
  "kernelspec": {
   "display_name": "Python 3",
   "language": "python",
   "name": "python3"
  },
  "language_info": {
   "codemirror_mode": {
    "name": "ipython",
    "version": 2
   },
   "file_extension": ".py",
   "mimetype": "text/x-python",
   "name": "python",
   "nbconvert_exporter": "python",
   "pygments_lexer": "ipython2",
   "version": "2.7.6"
  }
 },
 "nbformat": 4,
 "nbformat_minor": 0
}